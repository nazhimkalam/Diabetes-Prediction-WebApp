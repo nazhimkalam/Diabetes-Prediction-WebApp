{
 "cells": [
  {
   "cell_type": "markdown",
   "metadata": {},
   "source": [
    "# Flask Backend for Diabetes Prediction Modal"
   ]
  },
  {
   "cell_type": "code",
   "execution_count": 5,
   "metadata": {},
   "outputs": [],
   "source": [
    "# Make sure that all the following modules are already installed for use.\n",
    "from flask import Flask\n",
    "from flask_cors import CORS\n",
    "from flask_restful import Api, Resource, reqparse\n",
    "import joblib\n",
    "import numpy as np"
   ]
  },
  {
   "cell_type": "code",
   "execution_count": 6,
   "metadata": {},
   "outputs": [],
   "source": [
    "APP = Flask(__name__)\n",
    "APP.config['CORS_HEADERS'] = 'Content-Type'\n",
    "CORS(APP)\n",
    "API = Api(APP)"
   ]
  },
  {
   "cell_type": "code",
   "execution_count": 7,
   "metadata": {},
   "outputs": [],
   "source": [
    "DIABETIES_PREDICTION_MODEL = joblib.load('diabeties-pred-model.pkl')"
   ]
  },
  {
   "cell_type": "code",
   "execution_count": 8,
   "metadata": {},
   "outputs": [],
   "source": [
    "class Predict(Resource):\n",
    "\n",
    "    @staticmethod\n",
    "    def post():\n",
    "        parser = reqparse.RequestParser()\n",
    "        parser.add_argument('Pregnancies')\n",
    "        parser.add_argument('Glucose')\n",
    "        parser.add_argument('BloodPressure')\n",
    "        parser.add_argument('SkinThickness')\n",
    "        parser.add_argument('Insulin')\n",
    "        parser.add_argument('BMI')\n",
    "        parser.add_argument('DiabetesPedigreeFunction')\n",
    "        parser.add_argument('Age')\n",
    "\n",
    "        \n",
    "        args = parser.parse_args()  # creates dictionary\n",
    "\n",
    "        X_new = np.fromiter(args.values(), dtype=float)  # convert input to array\n",
    "        \n",
    "        CATEGORIES = [\"Negative\", \"Positive\"]\n",
    "\n",
    "        out = {'Prediction': CATEGORIES[DIABETIES_PREDICTION_MODEL.predict([X_new])[0]]}\n",
    "\n",
    "        return out, 200"
   ]
  },
  {
   "cell_type": "code",
   "execution_count": 9,
   "metadata": {},
   "outputs": [
    {
     "name": "stderr",
     "output_type": "stream",
     "text": [
      " * Restarting with stat\n"
     ]
    },
    {
     "ename": "SystemExit",
     "evalue": "1",
     "output_type": "error",
     "traceback": [
      "An exception has occurred, use %tb to see the full traceback.\n",
      "\u001b[1;31mSystemExit\u001b[0m\u001b[1;31m:\u001b[0m 1\n"
     ]
    },
    {
     "name": "stderr",
     "output_type": "stream",
     "text": [
      "c:\\users\\nazhim\\appdata\\local\\programs\\python\\python37\\lib\\site-packages\\IPython\\core\\interactiveshell.py:3425: UserWarning: To exit: use 'exit', 'quit', or Ctrl-D.\n",
      "  warn(\"To exit: use 'exit', 'quit', or Ctrl-D.\", stacklevel=1)\n"
     ]
    }
   ],
   "source": [
    "API.add_resource(Predict, '/predict')\n",
    "\n",
    "if __name__ == '__main__':\n",
    "    APP.run(debug=True, port=1080)"
   ]
  },
  {
   "cell_type": "code",
   "execution_count": null,
   "metadata": {},
   "outputs": [],
   "source": [
    "import requests\n",
    "\n",
    "URL = 'http://127.0.0.1:1080/predict'  # localhost and the defined port + endpoint\n",
    "\n",
    "body = {\n",
    "    \"Pregnancies\": 6,\n",
    "    \"Glucose\": 188,\n",
    "    \"BloodPressure\": 72,\n",
    "    \"SkinThickness\": 35,\n",
    "    \"Insulin\": 168,\n",
    "    \"BMI\": 33.6,\n",
    "    \"DiabetesPedigreeFunction\": 0.627,\n",
    "    \"Age\": 50\n",
    "    \n",
    "}\n",
    "\n",
    "response = requests.post(URL, data=body)\n",
    "response.json()"
   ]
  }
 ],
 "metadata": {
  "kernelspec": {
   "display_name": "Python 3",
   "language": "python",
   "name": "python3"
  },
  "language_info": {
   "codemirror_mode": {
    "name": "ipython",
    "version": 3
   },
   "file_extension": ".py",
   "mimetype": "text/x-python",
   "name": "python",
   "nbconvert_exporter": "python",
   "pygments_lexer": "ipython3",
   "version": "3.7.4"
  }
 },
 "nbformat": 4,
 "nbformat_minor": 4
}
